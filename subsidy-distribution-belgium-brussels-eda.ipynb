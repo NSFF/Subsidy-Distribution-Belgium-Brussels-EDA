{
 "cells": [
  {
   "cell_type": "markdown",
   "id": "a98c0639",
   "metadata": {
    "papermill": {
     "duration": 0.011594,
     "end_time": "2022-06-29T13:22:32.081454",
     "exception": false,
     "start_time": "2022-06-29T13:22:32.069860",
     "status": "completed"
    },
    "tags": []
   },
   "source": [
    "# Subsidy Distribution Belgium Brussels: EDA 🇧🇪"
   ]
  },
  {
   "cell_type": "markdown",
   "id": "8f1e4107",
   "metadata": {
    "papermill": {
     "duration": 0.009963,
     "end_time": "2022-06-29T13:22:32.101833",
     "exception": false,
     "start_time": "2022-06-29T13:22:32.091870",
     "status": "completed"
    },
    "tags": []
   },
   "source": [
    "# Table of Content"
   ]
  },
  {
   "cell_type": "markdown",
   "id": "70d98c2c",
   "metadata": {
    "papermill": {
     "duration": 0.009967,
     "end_time": "2022-06-29T13:22:32.122060",
     "exception": false,
     "start_time": "2022-06-29T13:22:32.112093",
     "status": "completed"
    },
    "tags": []
   },
   "source": [
    "1. [Introduction](#intro)\n",
    "2. [Importing Libraries](#lib)\n",
    "3. [Loading The Data](#data)\n",
    "4. [Data Engineering](#de)\n",
    "5. [Data Analysis](#da)\n",
    "6. [References](#ref)"
   ]
  },
  {
   "cell_type": "markdown",
   "id": "fa444cc4",
   "metadata": {
    "papermill": {
     "duration": 0.009875,
     "end_time": "2022-06-29T13:22:32.142211",
     "exception": false,
     "start_time": "2022-06-29T13:22:32.132336",
     "status": "completed"
    },
    "tags": []
   },
   "source": [
    "<a id=\"intro\"></a>\n",
    "# Introduction"
   ]
  },
  {
   "cell_type": "markdown",
   "id": "189bd9da",
   "metadata": {
    "papermill": {
     "duration": 0.00989,
     "end_time": "2022-06-29T13:22:32.162303",
     "exception": false,
     "start_time": "2022-06-29T13:22:32.152413",
     "status": "completed"
    },
    "tags": []
   },
   "source": [
    "This Exploratory data analysis will look at the distribution of where most funds in subsidies goes in Brussels. The data and labels are in French/Dutch. You won't need to know their translation as I will translate the import parts of the data during this notebook."
   ]
  },
  {
   "cell_type": "markdown",
   "id": "99b85a88",
   "metadata": {
    "papermill": {
     "duration": 0.0099,
     "end_time": "2022-06-29T13:22:32.182510",
     "exception": false,
     "start_time": "2022-06-29T13:22:32.172610",
     "status": "completed"
    },
    "tags": []
   },
   "source": [
    "<a id=\"lib\"></a>\n",
    "# Importing Libraries"
   ]
  },
  {
   "cell_type": "code",
   "execution_count": 1,
   "id": "59196c47",
   "metadata": {
    "_cell_guid": "b1076dfc-b9ad-4769-8c92-a6c4dae69d19",
    "_uuid": "8f2839f25d086af736a60e9eeb907d3b93b6e0e5",
    "execution": {
     "iopub.execute_input": "2022-06-29T13:22:32.205766Z",
     "iopub.status.busy": "2022-06-29T13:22:32.204562Z",
     "iopub.status.idle": "2022-06-29T13:22:33.457227Z",
     "shell.execute_reply": "2022-06-29T13:22:33.455961Z"
    },
    "papermill": {
     "duration": 1.267431,
     "end_time": "2022-06-29T13:22:33.460298",
     "exception": false,
     "start_time": "2022-06-29T13:22:32.192867",
     "status": "completed"
    },
    "tags": []
   },
   "outputs": [],
   "source": [
    "import pandas as pd\n",
    "import matplotlib.pyplot as plt\n",
    "import seaborn as sns"
   ]
  },
  {
   "cell_type": "markdown",
   "id": "194cb711",
   "metadata": {
    "papermill": {
     "duration": 0.010237,
     "end_time": "2022-06-29T13:22:33.482123",
     "exception": false,
     "start_time": "2022-06-29T13:22:33.471886",
     "status": "completed"
    },
    "tags": []
   },
   "source": [
    "<a id=\"data\"></a>\n",
    "# Loading the data"
   ]
  },
  {
   "cell_type": "code",
   "execution_count": 2,
   "id": "a7de0b2b",
   "metadata": {
    "execution": {
     "iopub.execute_input": "2022-06-29T13:22:33.505474Z",
     "iopub.status.busy": "2022-06-29T13:22:33.505078Z",
     "iopub.status.idle": "2022-06-29T13:22:33.515215Z",
     "shell.execute_reply": "2022-06-29T13:22:33.513738Z"
    },
    "papermill": {
     "duration": 0.024445,
     "end_time": "2022-06-29T13:22:33.517761",
     "exception": false,
     "start_time": "2022-06-29T13:22:33.493316",
     "status": "completed"
    },
    "tags": []
   },
   "outputs": [
    {
     "name": "stdout",
     "output_type": "stream",
     "text": [
      "<_io.TextIOWrapper name='../input/subsidy-distribution-belgium-brussels/Subsides_Subsidies_2020.csv' mode='r' encoding='UTF-8'>\n"
     ]
    }
   ],
   "source": [
    "with open('../input/subsidy-distribution-belgium-brussels/Subsides_Subsidies_2020.csv') as f:\n",
    "    print(f)"
   ]
  },
  {
   "cell_type": "markdown",
   "id": "2a63c05a",
   "metadata": {
    "papermill": {
     "duration": 0.010232,
     "end_time": "2022-06-29T13:22:33.538749",
     "exception": false,
     "start_time": "2022-06-29T13:22:33.528517",
     "status": "completed"
    },
    "tags": []
   },
   "source": [
    "Loading the data had some issues as it couldn't read the  UTF-8 encoding, so I had to use latin1. Most columns won't be important. Here some extra description of each column and their translation\n",
    "\n",
    "* *Article budgétaire - Begrotingsartikel*: Column of **Law identifications** (this can be useful\n",
    "* *Nom de la subvention - Naam van de subsidie*: Basicly, we got **2 types of subsidy** in this column. **Normal subsidy** (= routine costs of operating the City) and **long term subsidy** (investments which have lasting effects which a longer perspective) (translations: Subside budget ordinaire – Toelage gewone begroting = Normal Subsidy; Subside budget extraordinaire – Toelage buitengewone begroting = Long Term subsidy) \n",
    "* *Nom du bénéficiaire de la subvention - Naam begunstigde van de subsidie*: **Name** of the **organisation**/task receiving the subsidie.\n",
    "* *Le numéro de BCE du bénéficiaire de la subvention - KBO-nummer van de begunstigde van de subsidie*: **Company ID**\n",
    "* *L'objet de la subvention - Doel van de subsidie*: **Reason** for Subsidy\n",
    "* *Montant prévu au budget 2020 - Bedrag voorzien op begroting 2020*: Amount of **money expected to receive in 2020** in euro \n",
    "* *Montant octroyé - Toegekend bedrag*: Amount of **money received in euro** in 2020\n",
    "* *L'année de début d'octroi de la subvention -  Beginjaar waarin de subsidie wordt toegekend*: **Starting year** of expected subsidy\n",
    "* *L'année de fin d'octroi de la subvention -  Eindjaar waarin de subsidie wordt toegekend*: **End year** of expected subsidy"
   ]
  },
  {
   "cell_type": "code",
   "execution_count": 3,
   "id": "0bae376e",
   "metadata": {
    "execution": {
     "iopub.execute_input": "2022-06-29T13:22:33.561707Z",
     "iopub.status.busy": "2022-06-29T13:22:33.561018Z",
     "iopub.status.idle": "2022-06-29T13:22:33.613282Z",
     "shell.execute_reply": "2022-06-29T13:22:33.612447Z"
    },
    "papermill": {
     "duration": 0.066491,
     "end_time": "2022-06-29T13:22:33.615794",
     "exception": false,
     "start_time": "2022-06-29T13:22:33.549303",
     "status": "completed"
    },
    "tags": []
   },
   "outputs": [
    {
     "data": {
      "text/html": [
       "<div>\n",
       "<style scoped>\n",
       "    .dataframe tbody tr th:only-of-type {\n",
       "        vertical-align: middle;\n",
       "    }\n",
       "\n",
       "    .dataframe tbody tr th {\n",
       "        vertical-align: top;\n",
       "    }\n",
       "\n",
       "    .dataframe thead th {\n",
       "        text-align: right;\n",
       "    }\n",
       "</style>\n",
       "<table border=\"1\" class=\"dataframe\">\n",
       "  <thead>\n",
       "    <tr style=\"text-align: right;\">\n",
       "      <th></th>\n",
       "      <th>Article budgétaire - Begrotingsartikel</th>\n",
       "      <th>Nom de la subvention - Naam van de subsidie</th>\n",
       "      <th>Nom du bénéficiaire de la subvention - Naam begunstigde van de subsidie</th>\n",
       "      <th>Le numéro de BCE du bénéficiaire de la subvention - KBO-nummer van de begunstigde van de subsidie</th>\n",
       "      <th>L'objet de la subvention - Doel van de subsidie</th>\n",
       "      <th>Montant prévu au budget 2020 - Bedrag voorzien op begroting 2020</th>\n",
       "      <th>Montant octroyé - Toegekend bedrag</th>\n",
       "      <th>L'année de début d'octroi de la subvention -  Beginjaar waarin de subsidie wordt toegekend</th>\n",
       "      <th>L'année de fin d'octroi de la subvention -  Eindjaar waarin de subsidie wordt toegekend</th>\n",
       "    </tr>\n",
       "  </thead>\n",
       "  <tbody>\n",
       "    <tr>\n",
       "      <th>0</th>\n",
       "      <td>10101-33101</td>\n",
       "      <td>Subside budget ordinaire  Toelage gewone begr...</td>\n",
       "      <td>Fédération des Secrétaires communaux de la Rég...</td>\n",
       "      <td>825356172.0</td>\n",
       "      <td>Cotisation de membre - lidmaatschapsbijdrage</td>\n",
       "      <td>200,00</td>\n",
       "      <td>200,00</td>\n",
       "      <td>2020</td>\n",
       "      <td>2021</td>\n",
       "    </tr>\n",
       "    <tr>\n",
       "      <th>1</th>\n",
       "      <td>10101-33201</td>\n",
       "      <td>Subside budget ordinaire  Toelage gewone begr...</td>\n",
       "      <td>Conférence des Bourgmestres. - Vergadering der...</td>\n",
       "      <td>NaN</td>\n",
       "      <td>Cotisation de membre - lidmaatschapsbijdrage</td>\n",
       "      <td>4.525,00</td>\n",
       "      <td>4.525,00</td>\n",
       "      <td>2020</td>\n",
       "      <td>2021</td>\n",
       "    </tr>\n",
       "    <tr>\n",
       "      <th>2</th>\n",
       "      <td>10101-33201</td>\n",
       "      <td>Subside budget ordinaire  Toelage gewone begr...</td>\n",
       "      <td>PLANU.be</td>\n",
       "      <td>506972577.0</td>\n",
       "      <td>Cotisation de membre - lidmaatschapsbijdrage</td>\n",
       "      <td>75,00</td>\n",
       "      <td>75,00</td>\n",
       "      <td>2020</td>\n",
       "      <td>2021</td>\n",
       "    </tr>\n",
       "    <tr>\n",
       "      <th>3</th>\n",
       "      <td>10401-32101</td>\n",
       "      <td>Subside budget ordinaire  Toelage gewone begr...</td>\n",
       "      <td>Les moutons bxlois</td>\n",
       "      <td>690609316.0</td>\n",
       "      <td>Initiatives durables - Initiatieven voor duurz...</td>\n",
       "      <td>5.000,00</td>\n",
       "      <td>5.000,00</td>\n",
       "      <td>2020</td>\n",
       "      <td>2021</td>\n",
       "    </tr>\n",
       "    <tr>\n",
       "      <th>4</th>\n",
       "      <td>10401-32101</td>\n",
       "      <td>Subside budget ordinaire  Toelage gewone begr...</td>\n",
       "      <td>Habitat Groupé TIVOLI</td>\n",
       "      <td>665601231.0</td>\n",
       "      <td>Initiatives durables - Initiatieven voor duurz...</td>\n",
       "      <td>5.000,00</td>\n",
       "      <td>5.000,00</td>\n",
       "      <td>2020</td>\n",
       "      <td>2021</td>\n",
       "    </tr>\n",
       "  </tbody>\n",
       "</table>\n",
       "</div>"
      ],
      "text/plain": [
       "  Article budgétaire - Begrotingsartikel  \\\n",
       "0                            10101-33101   \n",
       "1                            10101-33201   \n",
       "2                            10101-33201   \n",
       "3                            10401-32101   \n",
       "4                            10401-32101   \n",
       "\n",
       "         Nom de la subvention - Naam van de subsidie  \\\n",
       "0  Subside budget ordinaire  Toelage gewone begr...   \n",
       "1  Subside budget ordinaire  Toelage gewone begr...   \n",
       "2  Subside budget ordinaire  Toelage gewone begr...   \n",
       "3  Subside budget ordinaire  Toelage gewone begr...   \n",
       "4  Subside budget ordinaire  Toelage gewone begr...   \n",
       "\n",
       "  Nom du bénéficiaire de la subvention - Naam begunstigde van de subsidie  \\\n",
       "0  Fédération des Secrétaires communaux de la Rég...                        \n",
       "1  Conférence des Bourgmestres. - Vergadering der...                        \n",
       "2                                          PLANU.be                         \n",
       "3                                Les moutons bxlois                         \n",
       "4                              Habitat Groupé TIVOLI                        \n",
       "\n",
       "   Le numéro de BCE du bénéficiaire de la subvention - KBO-nummer van de begunstigde van de subsidie  \\\n",
       "0                                        825356172.0                                                   \n",
       "1                                                NaN                                                   \n",
       "2                                        506972577.0                                                   \n",
       "3                                        690609316.0                                                   \n",
       "4                                        665601231.0                                                   \n",
       "\n",
       "     L'objet de la subvention - Doel van de subsidie  \\\n",
       "0       Cotisation de membre - lidmaatschapsbijdrage   \n",
       "1       Cotisation de membre - lidmaatschapsbijdrage   \n",
       "2       Cotisation de membre - lidmaatschapsbijdrage   \n",
       "3  Initiatives durables - Initiatieven voor duurz...   \n",
       "4  Initiatives durables - Initiatieven voor duurz...   \n",
       "\n",
       "  Montant prévu au budget 2020 - Bedrag voorzien op begroting 2020  \\\n",
       "0                                             200,00                 \n",
       "1                                           4.525,00                 \n",
       "2                                              75,00                 \n",
       "3                                           5.000,00                 \n",
       "4                                           5.000,00                 \n",
       "\n",
       "  Montant octroyé - Toegekend bedrag  \\\n",
       "0                             200,00   \n",
       "1                           4.525,00   \n",
       "2                              75,00   \n",
       "3                           5.000,00   \n",
       "4                           5.000,00   \n",
       "\n",
       "   L'année de début d'octroi de la subvention -  Beginjaar waarin de subsidie wordt toegekend  \\\n",
       "0                                               2020                                            \n",
       "1                                               2020                                            \n",
       "2                                               2020                                            \n",
       "3                                               2020                                            \n",
       "4                                               2020                                            \n",
       "\n",
       "   L'année de fin d'octroi de la subvention -  Eindjaar waarin de subsidie wordt toegekend  \n",
       "0                                               2021                                        \n",
       "1                                               2021                                        \n",
       "2                                               2021                                        \n",
       "3                                               2021                                        \n",
       "4                                               2021                                        "
      ]
     },
     "execution_count": 3,
     "metadata": {},
     "output_type": "execute_result"
    }
   ],
   "source": [
    "data = pd.read_csv('../input/subsidy-distribution-belgium-brussels/Subsides_Subsidies_2020.csv', encoding= 'latin1', sep=';')\n",
    "data.head()"
   ]
  },
  {
   "cell_type": "code",
   "execution_count": 4,
   "id": "8fcb684d",
   "metadata": {
    "execution": {
     "iopub.execute_input": "2022-06-29T13:22:33.640153Z",
     "iopub.status.busy": "2022-06-29T13:22:33.639290Z",
     "iopub.status.idle": "2022-06-29T13:22:33.646944Z",
     "shell.execute_reply": "2022-06-29T13:22:33.645747Z"
    },
    "papermill": {
     "duration": 0.022265,
     "end_time": "2022-06-29T13:22:33.648968",
     "exception": false,
     "start_time": "2022-06-29T13:22:33.626703",
     "status": "completed"
    },
    "tags": []
   },
   "outputs": [
    {
     "data": {
      "text/plain": [
       "(1233, 9)"
      ]
     },
     "execution_count": 4,
     "metadata": {},
     "output_type": "execute_result"
    }
   ],
   "source": [
    "data.shape"
   ]
  },
  {
   "cell_type": "markdown",
   "id": "0213aaa2",
   "metadata": {
    "papermill": {
     "duration": 0.010843,
     "end_time": "2022-06-29T13:22:33.670836",
     "exception": false,
     "start_time": "2022-06-29T13:22:33.659993",
     "status": "completed"
    },
    "tags": []
   },
   "source": [
    "<a id=\"de\"></a>\n",
    "# Data Engineering"
   ]
  },
  {
   "cell_type": "markdown",
   "id": "b738cc16",
   "metadata": {
    "papermill": {
     "duration": 0.010802,
     "end_time": "2022-06-29T13:22:33.692882",
     "exception": false,
     "start_time": "2022-06-29T13:22:33.682080",
     "status": "completed"
    },
    "tags": []
   },
   "source": [
    "**Column analysis**\n",
    "\n",
    "* The first column won't be important as it represents Law identifications. The column about \"the reason for the subsidy\"(column 5) will encapsulate the same meaning of the data.\n",
    "* The name of the subsidy (column 2) might be interesting to see how much money goes into long term and routine investments. So let's keep that and encode it later. (encoding means changing the \"text\" to an integer (0,1,2,3,...))\n",
    "* Name of the subsidy receiver (column 3) might be usefull to know which company/organisation is receiving the most/least\n",
    "* Company Id (column 4) is useless for us, so we will delete that.\n",
    "* Reason of subsidy (column 5) will be interesting to know what category the city spends the most on.\n",
    "* Amount of money expected to receive (column 6) is usefull!\n",
    "* Column 7,8,9 are pretty useless as they are the same number as column 6 and column 8-9 might not even be usefull here as subsidies get extended a lot.\n",
    "\n",
    "**What to do**\n",
    "\n",
    "* Remove column 1,4,7,8,9\n",
    "* Encode column 2,5 (maybe this is not necessary)"
   ]
  },
  {
   "cell_type": "code",
   "execution_count": 5,
   "id": "5f242a6e",
   "metadata": {
    "execution": {
     "iopub.execute_input": "2022-06-29T13:22:33.717553Z",
     "iopub.status.busy": "2022-06-29T13:22:33.716477Z",
     "iopub.status.idle": "2022-06-29T13:22:33.735295Z",
     "shell.execute_reply": "2022-06-29T13:22:33.734510Z"
    },
    "papermill": {
     "duration": 0.033369,
     "end_time": "2022-06-29T13:22:33.737416",
     "exception": false,
     "start_time": "2022-06-29T13:22:33.704047",
     "status": "completed"
    },
    "tags": []
   },
   "outputs": [
    {
     "data": {
      "text/html": [
       "<div>\n",
       "<style scoped>\n",
       "    .dataframe tbody tr th:only-of-type {\n",
       "        vertical-align: middle;\n",
       "    }\n",
       "\n",
       "    .dataframe tbody tr th {\n",
       "        vertical-align: top;\n",
       "    }\n",
       "\n",
       "    .dataframe thead th {\n",
       "        text-align: right;\n",
       "    }\n",
       "</style>\n",
       "<table border=\"1\" class=\"dataframe\">\n",
       "  <thead>\n",
       "    <tr style=\"text-align: right;\">\n",
       "      <th></th>\n",
       "      <th>Nom de la subvention - Naam van de subsidie</th>\n",
       "      <th>Nom du bénéficiaire de la subvention - Naam begunstigde van de subsidie</th>\n",
       "      <th>L'objet de la subvention - Doel van de subsidie</th>\n",
       "      <th>Montant prévu au budget 2020 - Bedrag voorzien op begroting 2020</th>\n",
       "    </tr>\n",
       "  </thead>\n",
       "  <tbody>\n",
       "    <tr>\n",
       "      <th>0</th>\n",
       "      <td>Subside budget ordinaire  Toelage gewone begr...</td>\n",
       "      <td>Fédération des Secrétaires communaux de la Rég...</td>\n",
       "      <td>Cotisation de membre - lidmaatschapsbijdrage</td>\n",
       "      <td>200,00</td>\n",
       "    </tr>\n",
       "    <tr>\n",
       "      <th>1</th>\n",
       "      <td>Subside budget ordinaire  Toelage gewone begr...</td>\n",
       "      <td>Conférence des Bourgmestres. - Vergadering der...</td>\n",
       "      <td>Cotisation de membre - lidmaatschapsbijdrage</td>\n",
       "      <td>4.525,00</td>\n",
       "    </tr>\n",
       "    <tr>\n",
       "      <th>2</th>\n",
       "      <td>Subside budget ordinaire  Toelage gewone begr...</td>\n",
       "      <td>PLANU.be</td>\n",
       "      <td>Cotisation de membre - lidmaatschapsbijdrage</td>\n",
       "      <td>75,00</td>\n",
       "    </tr>\n",
       "    <tr>\n",
       "      <th>3</th>\n",
       "      <td>Subside budget ordinaire  Toelage gewone begr...</td>\n",
       "      <td>Les moutons bxlois</td>\n",
       "      <td>Initiatives durables - Initiatieven voor duurz...</td>\n",
       "      <td>5.000,00</td>\n",
       "    </tr>\n",
       "    <tr>\n",
       "      <th>4</th>\n",
       "      <td>Subside budget ordinaire  Toelage gewone begr...</td>\n",
       "      <td>Habitat Groupé TIVOLI</td>\n",
       "      <td>Initiatives durables - Initiatieven voor duurz...</td>\n",
       "      <td>5.000,00</td>\n",
       "    </tr>\n",
       "  </tbody>\n",
       "</table>\n",
       "</div>"
      ],
      "text/plain": [
       "         Nom de la subvention - Naam van de subsidie  \\\n",
       "0  Subside budget ordinaire  Toelage gewone begr...   \n",
       "1  Subside budget ordinaire  Toelage gewone begr...   \n",
       "2  Subside budget ordinaire  Toelage gewone begr...   \n",
       "3  Subside budget ordinaire  Toelage gewone begr...   \n",
       "4  Subside budget ordinaire  Toelage gewone begr...   \n",
       "\n",
       "  Nom du bénéficiaire de la subvention - Naam begunstigde van de subsidie  \\\n",
       "0  Fédération des Secrétaires communaux de la Rég...                        \n",
       "1  Conférence des Bourgmestres. - Vergadering der...                        \n",
       "2                                          PLANU.be                         \n",
       "3                                Les moutons bxlois                         \n",
       "4                              Habitat Groupé TIVOLI                        \n",
       "\n",
       "     L'objet de la subvention - Doel van de subsidie  \\\n",
       "0       Cotisation de membre - lidmaatschapsbijdrage   \n",
       "1       Cotisation de membre - lidmaatschapsbijdrage   \n",
       "2       Cotisation de membre - lidmaatschapsbijdrage   \n",
       "3  Initiatives durables - Initiatieven voor duurz...   \n",
       "4  Initiatives durables - Initiatieven voor duurz...   \n",
       "\n",
       "  Montant prévu au budget 2020 - Bedrag voorzien op begroting 2020  \n",
       "0                                             200,00                \n",
       "1                                           4.525,00                \n",
       "2                                              75,00                \n",
       "3                                           5.000,00                \n",
       "4                                           5.000,00                "
      ]
     },
     "execution_count": 5,
     "metadata": {},
     "output_type": "execute_result"
    }
   ],
   "source": [
    "droppedLabels = data.columns[[0,3,6,7,8]]\n",
    "data.drop(droppedLabels, inplace=True, axis=1)\n",
    "data.head()"
   ]
  },
  {
   "cell_type": "markdown",
   "id": "dd824947",
   "metadata": {
    "papermill": {
     "duration": 0.011134,
     "end_time": "2022-06-29T13:22:33.760134",
     "exception": false,
     "start_time": "2022-06-29T13:22:33.749000",
     "status": "completed"
    },
    "tags": []
   },
   "source": [
    "Our last column which hold the amount of money is still in Strings, we need to change this to Floats. On top of that, because it uses , instead of . for decimals, we will need to change this for the type change to be available."
   ]
  },
  {
   "cell_type": "code",
   "execution_count": 6,
   "id": "95c01e79",
   "metadata": {
    "execution": {
     "iopub.execute_input": "2022-06-29T13:22:33.785880Z",
     "iopub.status.busy": "2022-06-29T13:22:33.784882Z",
     "iopub.status.idle": "2022-06-29T13:22:33.796247Z",
     "shell.execute_reply": "2022-06-29T13:22:33.795415Z"
    },
    "papermill": {
     "duration": 0.026741,
     "end_time": "2022-06-29T13:22:33.798745",
     "exception": false,
     "start_time": "2022-06-29T13:22:33.772004",
     "status": "completed"
    },
    "tags": []
   },
   "outputs": [],
   "source": [
    "float_data = []\n",
    "\n",
    "for i in data.iloc[:,3]:\n",
    "    i =  i.replace('.', '')\n",
    "    float_data.append(int(i[:-3]))\n",
    "data['Montant prévu au budget 2020 - Bedrag voorzien op begroting 2020'] = float_data"
   ]
  },
  {
   "cell_type": "markdown",
   "id": "cc4cd470",
   "metadata": {
    "papermill": {
     "duration": 0.011165,
     "end_time": "2022-06-29T13:22:33.821167",
     "exception": false,
     "start_time": "2022-06-29T13:22:33.810002",
     "status": "completed"
    },
    "tags": []
   },
   "source": [
    "We will hold a copy of the original cleaned data in backup_data for later use."
   ]
  },
  {
   "cell_type": "code",
   "execution_count": 7,
   "id": "d81accef",
   "metadata": {
    "execution": {
     "iopub.execute_input": "2022-06-29T13:22:33.846405Z",
     "iopub.status.busy": "2022-06-29T13:22:33.845665Z",
     "iopub.status.idle": "2022-06-29T13:22:33.850590Z",
     "shell.execute_reply": "2022-06-29T13:22:33.849843Z"
    },
    "papermill": {
     "duration": 0.020073,
     "end_time": "2022-06-29T13:22:33.852757",
     "exception": false,
     "start_time": "2022-06-29T13:22:33.832684",
     "status": "completed"
    },
    "tags": []
   },
   "outputs": [],
   "source": [
    "backup_data = data.copy()"
   ]
  },
  {
   "cell_type": "markdown",
   "id": "df120b6c",
   "metadata": {
    "papermill": {
     "duration": 0.01121,
     "end_time": "2022-06-29T13:22:33.875153",
     "exception": false,
     "start_time": "2022-06-29T13:22:33.863943",
     "status": "completed"
    },
    "tags": []
   },
   "source": [
    "<a id=\"da\"></a>\n",
    "# Data Analysis"
   ]
  },
  {
   "cell_type": "code",
   "execution_count": 8,
   "id": "11e1c8f6",
   "metadata": {
    "execution": {
     "iopub.execute_input": "2022-06-29T13:22:33.900355Z",
     "iopub.status.busy": "2022-06-29T13:22:33.899606Z",
     "iopub.status.idle": "2022-06-29T13:22:34.194239Z",
     "shell.execute_reply": "2022-06-29T13:22:34.192964Z"
    },
    "papermill": {
     "duration": 0.310273,
     "end_time": "2022-06-29T13:22:34.196976",
     "exception": false,
     "start_time": "2022-06-29T13:22:33.886703",
     "status": "completed"
    },
    "tags": []
   },
   "outputs": [
    {
     "data": {
      "image/png": "[encoded data removed]",
      "text/plain": [
       "<Figure size 432x288 with 1 Axes>"
      ]
     },
     "metadata": {},
     "output_type": "display_data"
    }
   ],
   "source": [
    "sns.set(style=\"darkgrid\")\n",
    "\n",
    "ax = sns.regplot(x=data.iloc[:,3], y=data.iloc[:,3], fit_reg=False)\n",
    "ax.set(xlabel = \"\", ylabel= \"\", title= \"Amount of money in subsidy in Euro\")\n",
    "\n",
    "plt.show()"
   ]
  },
  {
   "cell_type": "markdown",
   "id": "f9f4d3ec",
   "metadata": {
    "papermill": {
     "duration": 0.011269,
     "end_time": "2022-06-29T13:22:34.219950",
     "exception": false,
     "start_time": "2022-06-29T13:22:34.208681",
     "status": "completed"
    },
    "tags": []
   },
   "source": [
    "As you can see in the above scatter plot, we notice a few outliers who received a large amount of subsidies. Let's look at which they are and eliminate them from the data afterwards."
   ]
  },
  {
   "cell_type": "code",
   "execution_count": 9,
   "id": "5eb97109",
   "metadata": {
    "execution": {
     "iopub.execute_input": "2022-06-29T13:22:34.245648Z",
     "iopub.status.busy": "2022-06-29T13:22:34.244868Z",
     "iopub.status.idle": "2022-06-29T13:22:34.260164Z",
     "shell.execute_reply": "2022-06-29T13:22:34.259188Z"
    },
    "papermill": {
     "duration": 0.03082,
     "end_time": "2022-06-29T13:22:34.262521",
     "exception": false,
     "start_time": "2022-06-29T13:22:34.231701",
     "status": "completed"
    },
    "tags": []
   },
   "outputs": [
    {
     "data": {
      "text/html": [
       "<div>\n",
       "<style scoped>\n",
       "    .dataframe tbody tr th:only-of-type {\n",
       "        vertical-align: middle;\n",
       "    }\n",
       "\n",
       "    .dataframe tbody tr th {\n",
       "        vertical-align: top;\n",
       "    }\n",
       "\n",
       "    .dataframe thead th {\n",
       "        text-align: right;\n",
       "    }\n",
       "</style>\n",
       "<table border=\"1\" class=\"dataframe\">\n",
       "  <thead>\n",
       "    <tr style=\"text-align: right;\">\n",
       "      <th></th>\n",
       "      <th>Nom de la subvention - Naam van de subsidie</th>\n",
       "      <th>Nom du bénéficiaire de la subvention - Naam begunstigde van de subsidie</th>\n",
       "      <th>L'objet de la subvention - Doel van de subsidie</th>\n",
       "      <th>Montant prévu au budget 2020 - Bedrag voorzien op begroting 2020</th>\n",
       "    </tr>\n",
       "  </thead>\n",
       "  <tbody>\n",
       "    <tr>\n",
       "      <th>121</th>\n",
       "      <td>Subside budget ordinaire  Toelage gewone begr...</td>\n",
       "      <td>Zone de Police - Politiezone</td>\n",
       "      <td>Contribution dans les charges de fonctionnemen...</td>\n",
       "      <td>118136045</td>\n",
       "    </tr>\n",
       "    <tr>\n",
       "      <th>915</th>\n",
       "      <td>Subside budget ordinaire  Toelage gewone begr...</td>\n",
       "      <td>Centre Public d'action sociale de Bruxelles-Op...</td>\n",
       "      <td>Dotation (Comité de concertation), rétrocessio...</td>\n",
       "      <td>76175512</td>\n",
       "    </tr>\n",
       "  </tbody>\n",
       "</table>\n",
       "</div>"
      ],
      "text/plain": [
       "           Nom de la subvention - Naam van de subsidie  \\\n",
       "121  Subside budget ordinaire  Toelage gewone begr...   \n",
       "915  Subside budget ordinaire  Toelage gewone begr...   \n",
       "\n",
       "    Nom du bénéficiaire de la subvention - Naam begunstigde van de subsidie  \\\n",
       "121                       Zone de Police - Politiezone                        \n",
       "915  Centre Public d'action sociale de Bruxelles-Op...                        \n",
       "\n",
       "       L'objet de la subvention - Doel van de subsidie  \\\n",
       "121  Contribution dans les charges de fonctionnemen...   \n",
       "915  Dotation (Comité de concertation), rétrocessio...   \n",
       "\n",
       "     Montant prévu au budget 2020 - Bedrag voorzien op begroting 2020  \n",
       "121                                          118136045                 \n",
       "915                                           76175512                 "
      ]
     },
     "execution_count": 9,
     "metadata": {},
     "output_type": "execute_result"
    }
   ],
   "source": [
    "outlier_indexes = []\n",
    "index = 0\n",
    "for i in data.iloc[:,3]:\n",
    "    if i > 10_000_000:\n",
    "        outlier_indexes.append(index)\n",
    "    index += 1\n",
    "    \n",
    "data.iloc[outlier_indexes,:]"
   ]
  },
  {
   "cell_type": "markdown",
   "id": "be10e7f3",
   "metadata": {
    "papermill": {
     "duration": 0.011845,
     "end_time": "2022-06-29T13:22:34.286115",
     "exception": false,
     "start_time": "2022-06-29T13:22:34.274270",
     "status": "completed"
    },
    "tags": []
   },
   "source": [
    "**So what does this all mean?**\n",
    "\n",
    "* Politiezone: **118 million** was invested into the **police force** to sustain it's operations. This is significantly higher then all other subsidies, but we cannot conclude if this is a lot by belgian police standards.\n",
    "* Dotatie overlegcomité: **76 million** was invested into the political **\"meeting\" of all the governmental institutions**. The meaning and detailed breakdown of this wasn't easily tracable online. So I cannot conclude if this is big or not.\n",
    "\n",
    "let's now remove these outliers from the data"
   ]
  },
  {
   "cell_type": "code",
   "execution_count": 10,
   "id": "c8bc80b7",
   "metadata": {
    "execution": {
     "iopub.execute_input": "2022-06-29T13:22:34.311667Z",
     "iopub.status.busy": "2022-06-29T13:22:34.311261Z",
     "iopub.status.idle": "2022-06-29T13:22:34.317300Z",
     "shell.execute_reply": "2022-06-29T13:22:34.316457Z"
    },
    "papermill": {
     "duration": 0.021687,
     "end_time": "2022-06-29T13:22:34.319584",
     "exception": false,
     "start_time": "2022-06-29T13:22:34.297897",
     "status": "completed"
    },
    "tags": []
   },
   "outputs": [],
   "source": [
    "data.drop(outlier_indexes, axis = 0, inplace=True)"
   ]
  },
  {
   "cell_type": "markdown",
   "id": "2af14bd3",
   "metadata": {
    "papermill": {
     "duration": 0.011449,
     "end_time": "2022-06-29T13:22:34.342966",
     "exception": false,
     "start_time": "2022-06-29T13:22:34.331517",
     "status": "completed"
    },
    "tags": []
   },
   "source": [
    "The scatter plot looks way better now :)"
   ]
  },
  {
   "cell_type": "code",
   "execution_count": 11,
   "id": "24e4e4ff",
   "metadata": {
    "execution": {
     "iopub.execute_input": "2022-06-29T13:22:34.369012Z",
     "iopub.status.busy": "2022-06-29T13:22:34.368232Z",
     "iopub.status.idle": "2022-06-29T13:22:34.632771Z",
     "shell.execute_reply": "2022-06-29T13:22:34.631600Z"
    },
    "papermill": {
     "duration": 0.280263,
     "end_time": "2022-06-29T13:22:34.635186",
     "exception": false,
     "start_time": "2022-06-29T13:22:34.354923",
     "status": "completed"
    },
    "tags": []
   },
   "outputs": [
    {
     "data": {
      "image/png": "[encoded data removed]",
      "text/plain": [
       "<Figure size 432x288 with 1 Axes>"
      ]
     },
     "metadata": {},
     "output_type": "display_data"
    }
   ],
   "source": [
    "ax = sns.regplot(x=data.iloc[:,3], y=data.iloc[:,3], fit_reg=False)\n",
    "ax.set(xlabel = \"\", ylabel= \"\", title= \"Amount of money per organisation in subsidy in Euro\")\n",
    "\n",
    "plt.show()"
   ]
  },
  {
   "cell_type": "markdown",
   "id": "0d701400",
   "metadata": {
    "papermill": {
     "duration": 0.01174,
     "end_time": "2022-06-29T13:22:34.659298",
     "exception": false,
     "start_time": "2022-06-29T13:22:34.647558",
     "status": "completed"
    },
    "tags": []
   },
   "source": [
    "We can conclude that a lot of small subsidies are being given. The Histogram will obviously be skewed and not be a normal distribution. But let's double check that. We still have lots of outliers so, I will remove a lot so we can view the biggest chunk of data in a histogram."
   ]
  },
  {
   "cell_type": "code",
   "execution_count": 12,
   "id": "e9db1912",
   "metadata": {
    "execution": {
     "iopub.execute_input": "2022-06-29T13:22:34.685492Z",
     "iopub.status.busy": "2022-06-29T13:22:34.685047Z",
     "iopub.status.idle": "2022-06-29T13:22:34.696856Z",
     "shell.execute_reply": "2022-06-29T13:22:34.695770Z"
    },
    "papermill": {
     "duration": 0.027747,
     "end_time": "2022-06-29T13:22:34.699297",
     "exception": false,
     "start_time": "2022-06-29T13:22:34.671550",
     "status": "completed"
    },
    "tags": []
   },
   "outputs": [],
   "source": [
    "outlier_indexes = []\n",
    "index = 0\n",
    "for i in data.iloc[:,3]:\n",
    "    if i > 500_000:\n",
    "        outlier_indexes.append(index)\n",
    "    index += 1\n",
    "    \n",
    "data.drop(data.index[outlier_indexes], axis = 0, inplace=True)"
   ]
  },
  {
   "cell_type": "code",
   "execution_count": 13,
   "id": "e14dffd5",
   "metadata": {
    "execution": {
     "iopub.execute_input": "2022-06-29T13:22:34.725488Z",
     "iopub.status.busy": "2022-06-29T13:22:34.725048Z",
     "iopub.status.idle": "2022-06-29T13:22:35.305225Z",
     "shell.execute_reply": "2022-06-29T13:22:35.304049Z"
    },
    "papermill": {
     "duration": 0.596136,
     "end_time": "2022-06-29T13:22:35.307698",
     "exception": false,
     "start_time": "2022-06-29T13:22:34.711562",
     "status": "completed"
    },
    "tags": []
   },
   "outputs": [
    {
     "data": {
      "image/png": "[encoded data removed]",
      "text/plain": [
       "<Figure size 432x288 with 1 Axes>"
      ]
     },
     "metadata": {},
     "output_type": "display_data"
    }
   ],
   "source": [
    "ax = sns.histplot(data=data, x=\"Montant prévu au budget 2020 - Bedrag voorzien op begroting 2020\")\n",
    "ax.set(title= 'Amount of money per organisation in subsidy in Euro', xlabel= \"\")\n",
    "plt.show()"
   ]
  },
  {
   "cell_type": "markdown",
   "id": "fb919c55",
   "metadata": {
    "papermill": {
     "duration": 0.011936,
     "end_time": "2022-06-29T13:22:35.332239",
     "exception": false,
     "start_time": "2022-06-29T13:22:35.320303",
     "status": "completed"
    },
    "tags": []
   },
   "source": [
    "This confirms our believe that Brussels subsidieses a lot of organisations with a smaller budget.\n",
    "\n",
    "Let's further look at how much long term subidies compare to the \"normal\" subsidies."
   ]
  },
  {
   "cell_type": "code",
   "execution_count": 14,
   "id": "1ed97b36",
   "metadata": {
    "execution": {
     "iopub.execute_input": "2022-06-29T13:22:35.359732Z",
     "iopub.status.busy": "2022-06-29T13:22:35.358941Z",
     "iopub.status.idle": "2022-06-29T13:22:35.366827Z",
     "shell.execute_reply": "2022-06-29T13:22:35.365725Z"
    },
    "papermill": {
     "duration": 0.024458,
     "end_time": "2022-06-29T13:22:35.369271",
     "exception": false,
     "start_time": "2022-06-29T13:22:35.344813",
     "status": "completed"
    },
    "tags": []
   },
   "outputs": [],
   "source": [
    "data_long_term_subsidy = data.loc[data['Nom de la subvention - Naam van de subsidie'] == 'Subside budget extraordinaire \\x96 Toelage buitengewone begroting ']\n",
    "data_normal_subsidy = data.loc[data['Nom de la subvention - Naam van de subsidie'] == 'Subside budget ordinaire \\x96 Toelage gewone begroting']"
   ]
  },
  {
   "cell_type": "code",
   "execution_count": 15,
   "id": "f3a5f1aa",
   "metadata": {
    "execution": {
     "iopub.execute_input": "2022-06-29T13:22:35.396284Z",
     "iopub.status.busy": "2022-06-29T13:22:35.395471Z",
     "iopub.status.idle": "2022-06-29T13:22:35.654755Z",
     "shell.execute_reply": "2022-06-29T13:22:35.653575Z"
    },
    "papermill": {
     "duration": 0.27541,
     "end_time": "2022-06-29T13:22:35.657140",
     "exception": false,
     "start_time": "2022-06-29T13:22:35.381730",
     "status": "completed"
    },
    "tags": []
   },
   "outputs": [
    {
     "data": {
      "image/png": "[encoded data removed]",
      "text/plain": [
       "<Figure size 432x288 with 1 Axes>"
      ]
     },
     "metadata": {},
     "output_type": "display_data"
    }
   ],
   "source": [
    "ax = sns.histplot(data=data_long_term_subsidy, x=\"Montant prévu au budget 2020 - Bedrag voorzien op begroting 2020\", color='g',bins= 20)\n",
    "\n",
    "ax.set(title= 'Amount of money per organisation in Long term subsidy in Euro', xlabel= \"\")\n",
    "plt.show()"
   ]
  },
  {
   "cell_type": "markdown",
   "id": "161bbacf",
   "metadata": {
    "papermill": {
     "duration": 0.012289,
     "end_time": "2022-06-29T13:22:35.682248",
     "exception": false,
     "start_time": "2022-06-29T13:22:35.669959",
     "status": "completed"
    },
    "tags": []
   },
   "source": [
    "It still has the same distribution than the short \"normal\" subsidies. Now let's compare them on the same histogram."
   ]
  },
  {
   "cell_type": "code",
   "execution_count": 16,
   "id": "44a196c2",
   "metadata": {
    "execution": {
     "iopub.execute_input": "2022-06-29T13:22:35.709745Z",
     "iopub.status.busy": "2022-06-29T13:22:35.708938Z",
     "iopub.status.idle": "2022-06-29T13:22:36.399577Z",
     "shell.execute_reply": "2022-06-29T13:22:36.398698Z"
    },
    "papermill": {
     "duration": 0.707072,
     "end_time": "2022-06-29T13:22:36.401974",
     "exception": false,
     "start_time": "2022-06-29T13:22:35.694902",
     "status": "completed"
    },
    "tags": []
   },
   "outputs": [
    {
     "data": {
      "image/png": "[encoded data removed]",
      "text/plain": [
       "<Figure size 432x288 with 1 Axes>"
      ]
     },
     "metadata": {},
     "output_type": "display_data"
    }
   ],
   "source": [
    "sns.histplot(data=data_normal_subsidy, x=\"Montant prévu au budget 2020 - Bedrag voorzien op begroting 2020\")\n",
    "ax = sns.histplot(data=data_long_term_subsidy, x=\"Montant prévu au budget 2020 - Bedrag voorzien op begroting 2020\", color='g',bins= 20)\n",
    "\n",
    "ax.set(title= 'Amount of money per organisation in subsidy in Euro', xlabel= \"\")\n",
    "plt.show()"
   ]
  },
  {
   "cell_type": "markdown",
   "id": "c2a1eea1",
   "metadata": {
    "papermill": {
     "duration": 0.012562,
     "end_time": "2022-06-29T13:22:36.427537",
     "exception": false,
     "start_time": "2022-06-29T13:22:36.414975",
     "status": "completed"
    },
    "tags": []
   },
   "source": [
    "It's obvious here that way more is being spend on \"normal\" subsidies compared to long term investements.\n",
    "\n",
    "Let's compare the sum of money each receives."
   ]
  },
  {
   "cell_type": "code",
   "execution_count": 17,
   "id": "8a2578e7",
   "metadata": {
    "execution": {
     "iopub.execute_input": "2022-06-29T13:22:36.456785Z",
     "iopub.status.busy": "2022-06-29T13:22:36.455943Z",
     "iopub.status.idle": "2022-06-29T13:22:36.463571Z",
     "shell.execute_reply": "2022-06-29T13:22:36.462699Z"
    },
    "papermill": {
     "duration": 0.024925,
     "end_time": "2022-06-29T13:22:36.466087",
     "exception": false,
     "start_time": "2022-06-29T13:22:36.441162",
     "status": "completed"
    },
    "tags": []
   },
   "outputs": [],
   "source": [
    "backup_long_term_subsidy = backup_data.loc[backup_data['Nom de la subvention - Naam van de subsidie'] == 'Subside budget extraordinaire \\x96 Toelage buitengewone begroting ']\n",
    "backup_normal_subsidy = backup_data.loc[backup_data['Nom de la subvention - Naam van de subsidie'] == 'Subside budget ordinaire \\x96 Toelage gewone begroting']"
   ]
  },
  {
   "cell_type": "code",
   "execution_count": 18,
   "id": "5c082927",
   "metadata": {
    "execution": {
     "iopub.execute_input": "2022-06-29T13:22:36.493951Z",
     "iopub.status.busy": "2022-06-29T13:22:36.493580Z",
     "iopub.status.idle": "2022-06-29T13:22:36.499526Z",
     "shell.execute_reply": "2022-06-29T13:22:36.498440Z"
    },
    "papermill": {
     "duration": 0.022519,
     "end_time": "2022-06-29T13:22:36.501725",
     "exception": false,
     "start_time": "2022-06-29T13:22:36.479206",
     "status": "completed"
    },
    "tags": []
   },
   "outputs": [],
   "source": [
    "sum_long = backup_long_term_subsidy.iloc[:,3].sum()\n",
    "sum_norm = backup_normal_subsidy.iloc[:,3].sum()"
   ]
  },
  {
   "cell_type": "code",
   "execution_count": 19,
   "id": "b749cae7",
   "metadata": {
    "execution": {
     "iopub.execute_input": "2022-06-29T13:22:36.530278Z",
     "iopub.status.busy": "2022-06-29T13:22:36.529078Z",
     "iopub.status.idle": "2022-06-29T13:22:36.618570Z",
     "shell.execute_reply": "2022-06-29T13:22:36.617449Z"
    },
    "papermill": {
     "duration": 0.106678,
     "end_time": "2022-06-29T13:22:36.621539",
     "exception": false,
     "start_time": "2022-06-29T13:22:36.514861",
     "status": "completed"
    },
    "tags": []
   },
   "outputs": [
    {
     "data": {
      "image/png": "[encoded data removed]",
      "text/plain": [
       "<Figure size 432x288 with 1 Axes>"
      ]
     },
     "metadata": {},
     "output_type": "display_data"
    }
   ],
   "source": [
    "labels = [\"{:.2f} Normal\".format(sum_norm/(sum_norm + sum_long)), \"{:.2f} Long term\".format(sum_long/(sum_norm + sum_long))]\n",
    "values = [sum_norm, sum_long]\n",
    "\n",
    "# Label distance: gives the space between labels and the center of the pie\n",
    "plt.pie(values, labels= labels, labeldistance= 1.15, wedgeprops = { 'linewidth' : 3, 'edgecolor' : 'white' });\n",
    "plt.show();"
   ]
  },
  {
   "cell_type": "markdown",
   "id": "f5be473f",
   "metadata": {
    "papermill": {
     "duration": 0.024571,
     "end_time": "2022-06-29T13:22:36.671708",
     "exception": false,
     "start_time": "2022-06-29T13:22:36.647137",
     "status": "completed"
    },
    "tags": []
   },
   "source": [
    "It's clear here, that we conclude a lot is being spend on \"normal\" subsidies and only 3% is spend on long term investments.\n",
    "\n",
    "Let's see which category receives the biggest amount."
   ]
  },
  {
   "cell_type": "code",
   "execution_count": 20,
   "id": "6873b573",
   "metadata": {
    "execution": {
     "iopub.execute_input": "2022-06-29T13:22:36.718488Z",
     "iopub.status.busy": "2022-06-29T13:22:36.717315Z",
     "iopub.status.idle": "2022-06-29T13:22:36.724423Z",
     "shell.execute_reply": "2022-06-29T13:22:36.723604Z"
    },
    "papermill": {
     "duration": 0.02998,
     "end_time": "2022-06-29T13:22:36.726710",
     "exception": false,
     "start_time": "2022-06-29T13:22:36.696730",
     "status": "completed"
    },
    "tags": []
   },
   "outputs": [],
   "source": [
    "sorted_data = backup_data.sort_values(by=['Montant prévu au budget 2020 - Bedrag voorzien op begroting 2020'], ascending= False)"
   ]
  },
  {
   "cell_type": "code",
   "execution_count": 21,
   "id": "57ebe511",
   "metadata": {
    "execution": {
     "iopub.execute_input": "2022-06-29T13:22:36.754892Z",
     "iopub.status.busy": "2022-06-29T13:22:36.754522Z",
     "iopub.status.idle": "2022-06-29T13:22:36.953316Z",
     "shell.execute_reply": "2022-06-29T13:22:36.952086Z"
    },
    "papermill": {
     "duration": 0.216199,
     "end_time": "2022-06-29T13:22:36.956139",
     "exception": false,
     "start_time": "2022-06-29T13:22:36.739940",
     "status": "completed"
    },
    "tags": []
   },
   "outputs": [
    {
     "data": {
      "image/png": "[encoded data removed]",
      "text/plain": [
       "<Figure size 432x288 with 1 Axes>"
      ]
     },
     "metadata": {},
     "output_type": "display_data"
    }
   ],
   "source": [
    "labels = [\"Police\",\"government committee\",\"Safety and Prevention\",\"Hospital expense prevention\", \"Barema increases : regional intervention\", \"Barema increases : regional intervention\",\"COVID support\", \"Covid Support Catering Industry\", \"Barema increases : regional intervention\", \"Operational costs\"]\n",
    "values = sorted_data.iloc[:10,3]\n",
    "\n",
    "# Label distance: gives the space between labels and the center of the pie\n",
    "plt.pie(values, labels= labels, labeldistance= 1.15, radius= 2);\n",
    "plt.show();"
   ]
  },
  {
   "cell_type": "markdown",
   "id": "23b50950",
   "metadata": {
    "papermill": {
     "duration": 0.014477,
     "end_time": "2022-06-29T13:22:36.996404",
     "exception": false,
     "start_time": "2022-06-29T13:22:36.981927",
     "status": "completed"
    },
    "tags": []
   },
   "source": [
    "In the above pie chart, we see the 10 biggest subsidies. It's obvious here that government committee is way too big of an expense and needs to be looked into for efficiency purposes.\n",
    "\n",
    "To my surprise, the COVID relief for businesses and others is relatively low as the whole sector was shut down. I wonder how many really needed covid relief and how many actually received it. This should be researched more.\n",
    "\n",
    "I do think I could go deeper into this data analysis but as a lot of the \"categories\" of the subsidies are not very \"categorized\" well, I would have to translate and go through almost 200-300 different labels. So I will leave at this.\n",
    "\n",
    "I hope this was helpful for some :) Good luck out there!"
   ]
  },
  {
   "cell_type": "markdown",
   "id": "3fdc4ef0",
   "metadata": {
    "papermill": {
     "duration": 0.013938,
     "end_time": "2022-06-29T13:22:37.024723",
     "exception": false,
     "start_time": "2022-06-29T13:22:37.010785",
     "status": "completed"
    },
    "tags": []
   },
   "source": [
    "<a id=\"ref\"></a>\n",
    "# References"
   ]
  },
  {
   "cell_type": "markdown",
   "id": "b73f8203",
   "metadata": {
    "papermill": {
     "duration": 0.014,
     "end_time": "2022-06-29T13:22:37.053104",
     "exception": false,
     "start_time": "2022-06-29T13:22:37.039104",
     "status": "completed"
    },
    "tags": []
   },
   "source": [
    "I used the following reference website to make some of the charts: https://www.python-graph-gallery.com/"
   ]
  }
 ],
 "metadata": {
  "kernelspec": {
   "display_name": "Python 3",
   "language": "python",
   "name": "python3"
  },
  "language_info": {
   "codemirror_mode": {
    "name": "ipython",
    "version": 3
   },
   "file_extension": ".py",
   "mimetype": "text/x-python",
   "name": "python",
   "nbconvert_exporter": "python",
   "pygments_lexer": "ipython3",
   "version": "3.7.12"
  },
  "papermill": {
   "default_parameters": {},
   "duration": 16.087574,
   "end_time": "2022-06-29T13:22:37.789480",
   "environment_variables": {},
   "exception": null,
   "input_path": "__notebook__.ipynb",
   "output_path": "__notebook__.ipynb",
   "parameters": {},
   "start_time": "2022-06-29T13:22:21.701906",
   "version": "2.3.4"
  }
 },
 "nbformat": 4,
 "nbformat_minor": 5
}
